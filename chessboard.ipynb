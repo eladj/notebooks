{
 "cells": [
  {
   "cell_type": "code",
   "execution_count": 1,
   "metadata": {},
   "outputs": [],
   "source": [
    "import numpy as np\n",
    "import matplotlib.pyplot as plt\n",
    "import cv2\n",
    "%matplotlib inline"
   ]
  },
  {
   "cell_type": "code",
   "execution_count": 105,
   "metadata": {},
   "outputs": [
    {
     "data": {
      "image/png": "[encoded data removed]",
      "text/plain": [
       "<Figure size 720x360 with 2 Axes>"
      ]
     },
     "metadata": {},
     "output_type": "display_data"
    }
   ],
   "source": [
    "# fn = \"/Users/ejoseph/Downloads/chessboard.png\"\n",
    "fn = \"/Users/ejoseph/Downloads/chessboard2.png\"\n",
    "im = cv2.imread(fn, cv2.IMREAD_GRAYSCALE)\n",
    "plt.figure(figsize=(10, 5)), plt.imshow(im, cmap='gray'), plt.colorbar();"
   ]
  },
  {
   "cell_type": "markdown",
   "metadata": {},
   "source": [
    "## Find the chessboard"
   ]
  },
  {
   "cell_type": "markdown",
   "metadata": {},
   "source": [
    "Take the derivative of the image to find the edges of the board and also to normalize the gray level."
   ]
  },
  {
   "cell_type": "code",
   "execution_count": 113,
   "metadata": {},
   "outputs": [
    {
     "data": {
      "image/png": "[encoded data removed]",
      "text/plain": [
       "<Figure size 720x360 with 1 Axes>"
      ]
     },
     "metadata": {},
     "output_type": "display_data"
    },
    {
     "data": {
      "image/png": "[encoded data removed]",
      "text/plain": [
       "<Figure size 720x360 with 1 Axes>"
      ]
     },
     "metadata": {},
     "output_type": "display_data"
    }
   ],
   "source": [
    "grid_size = (9, 6)  # Num of intersections (x, y)\n",
    "im = im.astype(float)\n",
    "g = cv2.Sobel(im.astype(np.float32), cv2.CV_32F, dx=1, dy=1, ksize=3)\n",
    "g = np.abs(g)\n",
    "bw = g > 3\n",
    "plt.figure(figsize=(10, 5)), plt.imshow(g, cmap='viridis');\n",
    "plt.figure(figsize=(10, 5)), plt.imshow(bw, cmap='gray');"
   ]
  },
  {
   "cell_type": "markdown",
   "metadata": {},
   "source": [
    "Find the lines equation using Hough transform.\n",
    "We use polar coordinates instead of the regular $y=ax+b$ to avoid numerical issues when the denominator is very small. We will represent a straight line by a rotation angle $\\theta$ and the distance from the top-left corner $r$.\n",
    "\n",
    "$x=r\\cos{\\theta}$\n",
    "\n",
    "$y=r\\sin{\\theta}$"
   ]
  },
  {
   "cell_type": "code",
   "execution_count": 41,
   "metadata": {},
   "outputs": [
    {
     "data": {
      "text/plain": [
       "array([[704,  18],\n",
       "       [705,  18],\n",
       "       [706,  18],\n",
       "       ...,\n",
       "       [ 10, 537],\n",
       "       [ 11, 537],\n",
       "       [ 13, 537]])"
      ]
     },
     "execution_count": 41,
     "metadata": {},
     "output_type": "execute_result"
    }
   ],
   "source": [
    "# Building a list of points\n",
    "points_y, points_x = np.where(bw)\n",
    "pts_xy = np.vstack((points_x, points_y)).T\n",
    "pts_xy"
   ]
  },
  {
   "cell_type": "code",
   "execution_count": 66,
   "metadata": {},
   "outputs": [
    {
     "name": "stdout",
     "output_type": "stream",
     "text": [
      "[0. 0.] [nan nan]\n",
      "[0. 0.] [0. 0.]\n",
      "[0. 0.] [0. 0.]\n",
      "[0. 0.] [0. 0.]\n",
      "[0. 0.] [0. 0.]\n",
      "[0. 0.] [0. 0.]\n",
      "[0. 0.] [0. 0.]\n",
      "[0. 0.] [0. 0.]\n",
      "[0. 0.] [0. 0.]\n",
      "[0. 0.] [0. 0.]\n",
      "[0. 0.] [0. 0.]\n",
      "[0. 0.] [0. 0.]\n",
      "[0. 0.] [0. 0.]\n",
      "[0. 0.] [0. 0.]\n",
      "[0. 0.] [0. 0.]\n",
      "[0. 0.] [0. 0.]\n",
      "[0. 0.] [0. 0.]\n",
      "[0. 0.] [0. 0.]\n",
      "[0. 0.] [0. 0.]\n",
      "[0. 0.] [0. 0.]\n",
      "[ 0.         60.88888889] [-inf  nan]\n",
      "[ 0.         31.63206305] [-9.21410518e+01 -7.10542736e-15]\n",
      "[ 0.         -5.44222917] [6.99217618 0.        ]\n",
      "[  0.         -69.55343291] [45.44152568  0.        ]\n",
      "[   0.       -275.646056] [69.80306145  0.        ]\n",
      "[-1.42108547e-14  1.08936816e+03] [90.2676194  0.       ]\n",
      "[  0.         255.17598593] [111.93056518   0.        ]\n",
      "[  0.         153.46490046] [141.2743931   0.       ]\n",
      "[  0.         107.00884919] [197.73503414   0.        ]\n",
      "[ 0.         75.10996255] [ 4.50109329e+02 -7.10542736e-15]\n",
      "[ 0.         46.66781523] [-279.66488436    0.        ]\n",
      "[ 0.         14.76892858] [-27.2905897   0.       ]\n",
      "[  0.         -31.68712268] [29.17005134  0.        ]\n",
      "[   0.         -133.39820815] [58.51387927  0.        ]\n",
      "[ 1.42108547e-14 -9.67590383e+02] [80.17682504  0.        ]\n",
      "[  0.         397.42383378] [100.64138299   0.        ]\n",
      "[  0.         191.33121068] [ 1.25002919e+02 -7.10542736e-15]\n",
      "[  0.         127.22000695] [1.63452268e+02 7.10542736e-15]\n",
      "[ 0.         90.14571473] [262.58549627   0.        ]\n",
      "[ 0.         60.88888889] [2.48597755e+17 0.00000000e+00]\n",
      "[  0.         121.77777778] [-inf  nan]\n",
      "[ 0.         63.26412609] [-1.84282104e+02 -1.42108547e-14]\n",
      "[  0.         -10.88445834] [13.98435236  0.        ]\n",
      "[   0.         -139.10686581] [90.88305136  0.        ]\n",
      "[   0.       -551.292112] [139.60612291   0.        ]\n",
      "[-2.84217094e-14  2.17873632e+03] [180.53523881   0.        ]\n",
      "[  0.         510.35197185] [223.86113036   0.        ]\n",
      "[  0.         306.92980091] [282.5487862   0.       ]\n",
      "[  0.         214.01769839] [395.47006829   0.        ]\n",
      "[  0.         150.21992509] [ 9.00218658e+02 -1.42108547e-14]\n",
      "[ 0.         93.33563046] [-559.32976873    0.        ]\n",
      "[ 0.         29.53785717] [-54.5811794   0.       ]\n",
      "[  0.         -63.37424536] [58.34010269  0.        ]\n",
      "[   0.        -266.7964163] [117.02775853   0.        ]\n",
      "[ 2.84217094e-14 -1.93518077e+03] [160.35365008   0.        ]\n",
      "[  0.         794.84766756] [201.28276598   0.        ]\n",
      "[  0.         382.66242137] [ 2.50005838e+02 -1.42108547e-14]\n",
      "[  0.         254.44001389] [3.26904537e+02 1.42108547e-14]\n",
      "[  0.         180.29142946] [525.17099254   0.        ]\n",
      "[  0.         121.77777778] [4.97195509e+17 0.00000000e+00]\n",
      "[  0.         182.66666667] [-inf  nan]\n",
      "[ 0.         94.89618914] [-276.42315547    0.        ]\n",
      "[  0.         -16.32668751] [20.97652854  0.        ]\n",
      "[   0.         -208.66029872] [136.32457704   0.        ]\n",
      "[-2.84217094e-14 -8.26938168e+02] [209.40918436   0.        ]\n",
      "[-2.84217094e-14  3.26810448e+03] [270.80285821   0.        ]\n",
      "[-2.84217094e-14  7.65527958e+02] [335.79169554   0.        ]\n",
      "[2.84217094e-14 4.60394701e+02] [423.82317931   0.        ]\n",
      "[  0.         321.02654758] [593.20510243   0.        ]\n",
      "[  0.         225.32988764] [1350.32798642    0.        ]\n",
      "[2.84217094e-14 1.40003446e+02] [-8.38994653e+02  2.84217094e-14]\n",
      "[2.84217094e-14 4.43067857e+01] [-81.8717691   0.       ]\n",
      "[  0.         -95.06136804] [87.51015403  0.        ]\n",
      "[   0.         -400.19462445] [175.5416378   0.       ]\n",
      "[    0.         -2902.77114979] [240.53047513   0.        ]\n",
      "[2.84217094e-14 1.19227150e+03] [301.92414897   0.        ]\n",
      "[  0.         573.99363205] [375.0087563   0.       ]\n",
      "[2.84217094e-14 3.81660021e+02] [490.3568048   0.       ]\n",
      "[  0.        270.4371442] [7.87756489e+02 2.84217094e-14]\n",
      "[  0.         182.66666667] [7.45793264e+17 0.00000000e+00]\n",
      "[  0.         243.55555556] [-inf  nan]\n",
      "[  0.         126.52825218] [-3.68564207e+02 -2.84217094e-14]\n",
      "[  0.         -21.76891667] [27.96870471  0.        ]\n",
      "[   0.         -278.21373163] [181.76610272   0.        ]\n",
      "[    0.       -1102.584224] [279.21224581   0.        ]\n",
      "[-5.68434189e-14  4.35747264e+03] [361.07047761   0.        ]\n",
      "[   0.         1020.70394371] [447.72226072   0.        ]\n",
      "[  0.         613.85960183] [565.09757241   0.        ]\n",
      "[  0.         428.03539678] [790.94013658   0.        ]\n",
      "[  0.         300.43985019] [ 1.80043732e+03 -2.84217094e-14]\n",
      "[  0.         186.67126092] [-1118.65953745     0.        ]\n",
      "[ 0.         59.07571433] [-109.1623588    0.       ]\n",
      "[   0.         -126.74849072] [116.68020537   0.        ]\n",
      "[   0.        -533.5928326] [234.05551706   0.        ]\n",
      "[ 5.68434189e-14 -3.87036153e+03] [320.70730017   0.        ]\n",
      "[   0.         1589.69533511] [402.56553197   0.        ]\n",
      "[  0.         765.32484274] [ 5.00011675e+02 -2.84217094e-14]\n",
      "[  0.         508.88002778] [6.53809073e+02 2.84217094e-14]\n",
      "[  0.         360.58285893] [1050.34198507    0.        ]\n",
      "[  0.         243.55555556] [9.94391018e+17 0.00000000e+00]\n",
      "[  0.         304.44444444] [-inf  nan]\n",
      "[  0.         158.16031523] [-460.70525912    0.        ]\n",
      "[-5.68434189e-14 -2.72111458e+01] [34.96088089  0.        ]\n",
      "[   0.         -347.76716454] [227.2076284   0.       ]\n",
      "[    0.      -1378.23028] [349.01530726   0.        ]\n",
      "[   0.         5446.84080521] [451.33809701   0.        ]\n",
      "[-5.68434189e-14  1.27587993e+03] [559.65282589   0.        ]\n",
      "[  0.         767.32450228] [706.37196551   0.        ]\n",
      "[  0.         535.04424597] [988.67517072   0.        ]\n",
      "[  0.         375.54981274] [2250.54664404    0.        ]\n",
      "[  0.         233.33907615] [-1398.32442182     0.        ]\n",
      "[ 0.         73.84464292] [-136.4529485    0.       ]\n",
      "[ 5.68434189e-14 -1.58435613e+02] [145.85025671   0.        ]\n",
      "[-5.68434189e-14 -6.66991041e+02] [292.56939633   0.        ]\n",
      "[    0.         -4837.95191632] [400.88412521   0.        ]\n",
      "[   0.         1987.11916889] [503.20691496   0.        ]\n",
      "[  0.         956.65605342] [625.01459383   0.        ]\n",
      "[  0.         636.10003473] [817.26134133   0.        ]\n",
      "[  0.         450.72857366] [1312.92748134    0.        ]\n",
      "[  0.         304.44444444] [1.24298877e+18 0.00000000e+00]\n",
      "[  0.         365.33333333] [-inf  nan]\n",
      "[  0.         189.79237827] [-552.84631094    0.        ]\n",
      "[  0.         -32.65337501] [41.95305707  0.        ]\n",
      "[   0.         -417.32059744] [272.64915407   0.        ]\n",
      "[-5.68434189e-14 -1.65387634e+03] [418.81836872   0.        ]\n",
      "[-5.68434189e-14  6.53620897e+03] [541.60571642   0.        ]\n",
      "[-5.68434189e-14  1.53105592e+03] [671.58339107   0.        ]\n",
      "[5.68434189e-14 9.20789403e+02] [847.64635861   0.        ]\n",
      "[  0.         642.05309517] [1186.41020487    0.        ]\n",
      "[  0.         450.65977528] [2700.65597285    0.        ]\n",
      "[5.68434189e-14 2.80006891e+02] [-1.67798931e+03  5.68434189e-14]\n",
      "[5.68434189e-14 8.86135715e+01] [-163.7435382    0.       ]\n",
      "[   0.         -190.12273607] [175.02030806   0.        ]\n",
      "[   0.        -800.3892489] [351.08327559   0.        ]\n",
      "[    0.         -5805.54229958] [481.06095025   0.        ]\n",
      "[5.68434189e-14 2.38454300e+03] [603.84829795   0.        ]\n",
      "[   0.         1147.98726411] [750.01751259   0.        ]\n",
      "[5.68434189e-14 7.63320042e+02] [980.7136096   0.       ]\n",
      "[  0.         540.87428839] [1.57551298e+03 5.68434189e-14]\n",
      "[  0.         365.33333333] [1.49158653e+18 0.00000000e+00]\n",
      "[  0.         426.22222222] [-inf  nan]\n",
      "[  0.         221.42444132] [-644.98736277    0.        ]\n",
      "[  0.         -38.09560418] [4.89452332e+01 5.68434189e-14]\n",
      "[   0.         -486.87403035] [318.09067975   0.        ]\n",
      "[    0.         -1929.52239201] [488.62143017   0.        ]\n",
      "[   0.         7625.57712729] [631.87333582   0.        ]\n",
      "[   0.         1786.23190149] [783.51395625   0.        ]\n",
      "[   0.        1074.2543032] [988.92075171   0.        ]\n",
      "[  0.         749.06194436] [1384.14523901    0.        ]\n",
      "[  0.         525.76973783] [ 3.15076530e+03 -5.68434189e-14]\n",
      "[  0.         326.67470661] [-1957.65419054     0.        ]\n",
      "[  0.         103.38250008] [-191.0341279    0.       ]\n",
      "[   0.         -221.80985875] [204.1903594   0.       ]\n",
      "[   0.         -933.78745705] [409.59715486   0.        ]\n",
      "[    0.         -6773.13268285] [561.23777529   0.        ]\n",
      "[   0.         2781.96683645] [704.48968094   0.        ]\n",
      "[   0.         1339.31847479] [875.02043136   0.        ]\n",
      "[  0.         890.54004862] [1144.16587786    0.        ]\n",
      "[  0.         631.02000313] [1838.09847388    0.        ]\n",
      "[  0.         426.22222222] [1.74018428e+18 0.00000000e+00]\n",
      "[  0.         487.11111111] [-inf  nan]\n",
      "[  0.         253.05650436] [-7.37128415e+02 -5.68434189e-14]\n",
      "[  0.         -43.53783335] [55.93740943  0.        ]\n",
      "[   0.         -556.42746326] [363.53220543   0.        ]\n",
      "[    0.         -2205.16844801] [558.42449162   0.        ]\n",
      "[-1.13686838e-13  8.71494529e+03] [722.14095522   0.        ]\n",
      "[   0.         2041.40788742] [895.44452143   0.        ]\n",
      "[   0.         1227.71920365] [1130.19514481    0.        ]\n",
      "[  0.         856.07079356] [1581.88027316    0.        ]\n",
      "[  0.         600.87970038] [ 3.60087463e+03 -5.68434189e-14]\n",
      "[  0.         373.34252184] [-2237.31907491     0.        ]\n",
      "[  0.         118.15142867] [-218.3247176    0.       ]\n",
      "[   0.         -253.49698143] [233.36041074   0.        ]\n",
      "[    0.        -1067.1856652] [468.11103412   0.        ]\n",
      "[ 1.13686838e-13 -7.74072307e+03] [641.41460034   0.        ]\n",
      "[   0.         3179.39067023] [805.13106393   0.        ]\n",
      "[   0.         1530.64968548] [ 1.00002335e+03 -5.68434189e-14]\n",
      "[   0.         1017.76005557] [1.30761815e+03 5.68434189e-14]\n",
      "[  0.         721.16571786] [2100.68397014    0.        ]\n",
      "[  0.         487.11111111] [1.98878204e+18 0.00000000e+00]\n",
      "[  0. 548.] [-inf  nan]\n",
      "[  0.         284.68856741] [-829.26946641    0.        ]\n",
      "[  0.         -48.98006252] [62.92958561  0.        ]\n",
      "[   0.         -625.98089616] [408.97373111   0.        ]\n",
      "[    0.         -2480.81450401] [628.22755308   0.        ]\n",
      "[   0.         9804.31344937] [812.40857462   0.        ]\n",
      "[   0.         2296.58387334] [1007.37508661    0.        ]\n",
      "[   0.         1381.18410411] [1271.46953792    0.        ]\n",
      "[  0.         963.07964275] [1779.6153073    0.       ]\n",
      "[  0.         675.98966293] [4050.98395927    0.        ]\n",
      "[  0.         420.01033707] [-2516.98395927     0.        ]\n",
      "[  0.         132.92035725] [-245.6153073    0.       ]\n",
      "[   0.         -285.18410411] [262.53046208   0.        ]\n",
      "[    0.         -1200.58387334] [526.62491339   0.        ]\n",
      "[-1.13686838e-13 -8.70831345e+03] [721.59142538   0.        ]\n",
      "[   0.         3576.81450401] [905.77244692   0.        ]\n",
      "[   0.         1721.98089616] [1125.02626889    0.        ]\n",
      "[   0.         1144.98006252] [1471.07041439    0.        ]\n",
      "[  0.         811.31143259] [2363.26946641    0.        ]\n",
      "[  0. 548.] [2.23737979e+18 0.00000000e+00]\n"
     ]
    },
    {
     "name": "stderr",
     "output_type": "stream",
     "text": [
      "/Users/ejoseph/code/venvs/py36/lib/python3.6/site-packages/ipykernel_launcher.py:13: RuntimeWarning: invalid value encountered in true_divide\n",
      "  del sys.path[0]\n",
      "/Users/ejoseph/code/venvs/py36/lib/python3.6/site-packages/ipykernel_launcher.py:13: RuntimeWarning: divide by zero encountered in true_divide\n",
      "  del sys.path[0]\n",
      "/Users/ejoseph/code/venvs/py36/lib/python3.6/site-packages/ipykernel_launcher.py:16: RuntimeWarning: invalid value encountered in multiply\n",
      "  app.launch_new_instance()\n",
      "/Users/ejoseph/code/venvs/py36/lib/python3.6/site-packages/numpy/core/function_base.py:133: RuntimeWarning: invalid value encountered in multiply\n",
      "  y *= step\n"
     ]
    }
   ],
   "source": [
    "# We go over each staright line and count how many points support this line\n",
    "points = np.where(bw)\n",
    "r_vec = np.linspace(0, np.sqrt(im.shape[0]**2+im.shape[1]**2), 10)\n",
    "theta_vec = np.linspace(0, 2*np.pi, 20)\n",
    "aspect_ratio = float(im.shape[0]) / im.shape[1]\n",
    "alpha = np.arctan2(im.shape[1], im.shape[0])\n",
    "counts = np.zeros((len(r_vec), len(theta_vec)), dtype=int)\n",
    "for i, r in enumerate(r_vec):\n",
    "    for j, theta in enumerate(theta_vec):\n",
    "        p0 = np.array([np.sin(alpha)*r, np.cos(alpha)*r])\n",
    "        direction = np.array([np.cos(theta), np.sin(theta)])\n",
    "        # find intersection with the x and y axes\n",
    "        a = - p0 / direction\n",
    "        # find intersection with the x-axis\n",
    "        p1 = p0 + a[0]*direction\n",
    "        p2 = p0 + a[1]*direction\n",
    "        # [p0x,p0y]+a*[vx, vy] = [0, 0]\n",
    "        print(p1, p2)\n",
    "        line = np.linspace(p1[0], p2[0], 10000), np.linspace(p1[1], p2[1], 10000)\n",
    "        dist = "
   ]
  },
  {
   "cell_type": "code",
   "execution_count": 63,
   "metadata": {},
   "outputs": [
    {
     "data": {
      "text/plain": [
       "array([ 7.67000000e+02, -2.23737979e+18])"
      ]
     },
     "execution_count": 63,
     "metadata": {},
     "output_type": "execute_result"
    }
   ],
   "source": [
    "a"
   ]
  },
  {
   "cell_type": "code",
   "execution_count": 114,
   "metadata": {},
   "outputs": [
    {
     "data": {
      "text/plain": [
       "array([[255, 255, 255,   0,   0,   0],\n",
       "       [255, 255, 255,   0,   0,   0],\n",
       "       [255, 255, 255,   0,   0,   0],\n",
       "       [  0,   0,   0, 255, 255, 255],\n",
       "       [  0,   0,   0, 255, 255, 255],\n",
       "       [  0,   0,   0, 255, 255, 255]], dtype=uint8)"
      ]
     },
     "execution_count": 114,
     "metadata": {},
     "output_type": "execute_result"
    }
   ],
   "source": [
    "s = 6\n",
    "half_s = int(np.floor(s/ 2))\n",
    "template = np.ones((s, s), dtype=np.uint8) * 255\n",
    "template[:half_s, :half_s] = 0\n",
    "template[half_s:, half_s:] = 0\n",
    "template_neg = ~template  # the negative image\n",
    "template_neg"
   ]
  },
  {
   "cell_type": "code",
   "execution_count": 115,
   "metadata": {},
   "outputs": [
    {
     "name": "stderr",
     "output_type": "stream",
     "text": [
      "/Users/ejoseph/code/venvs/py36/lib/python3.6/site-packages/ipykernel_launcher.py:7: RuntimeWarning: invalid value encountered in double_scalars\n",
      "  import sys\n"
     ]
    }
   ],
   "source": [
    "ncc = np.zeros_like(im, dtype=float)\n",
    "sum2 = np.sum(template)\n",
    "for i in range(s, im.shape[0] - s):\n",
    "    for j in range(s, im.shape[1] - s):\n",
    "        patch = im[(i-half_s):(i+half_s),(j-half_s):(j+half_s)]\n",
    "        sum1 = np.sum(patch)\n",
    "        ncc[i, j] = np.sum(patch * template_neg) / (sum1*sum2)"
   ]
  },
  {
   "cell_type": "code",
   "execution_count": 121,
   "metadata": {},
   "outputs": [
    {
     "name": "stderr",
     "output_type": "stream",
     "text": [
      "/Users/ejoseph/code/venvs/py36/lib/python3.6/site-packages/ipykernel_launcher.py:2: RuntimeWarning: invalid value encountered in greater\n",
      "  \n"
     ]
    },
    {
     "data": {
      "text/plain": [
       "(<Figure size 432x288 with 1 Axes>,\n",
       " <matplotlib.image.AxesImage at 0x119112a58>)"
      ]
     },
     "execution_count": 121,
     "metadata": {},
     "output_type": "execute_result"
    },
    {
     "data": {
      "image/png": "[encoded data removed]",
      "text/plain": [
       "<Figure size 432x288 with 1 Axes>"
      ]
     },
     "metadata": {},
     "output_type": "display_data"
    }
   ],
   "source": [
    "# plt.figure(), plt.imshow(ncc[220:270, 150:200]), plt.colorbar()\n",
    "plt.figure(), plt.imshow(ncc>0.03)"
   ]
  },
  {
   "cell_type": "markdown",
   "metadata": {},
   "source": [
    "## Things to consider:\n",
    "\n",
    "- Distorted lines - problem to use Hough transform to detect straight lines. For a robust algorithm we probably need to look on local features."
   ]
  },
  {
   "cell_type": "code",
   "execution_count": 80,
   "metadata": {},
   "outputs": [
    {
     "data": {
      "text/plain": [
       "4590"
      ]
     },
     "execution_count": 80,
     "metadata": {},
     "output_type": "execute_result"
    }
   ],
   "source": [
    "s2 = np.sum(template)\n",
    "s2"
   ]
  },
  {
   "cell_type": "code",
   "execution_count": null,
   "metadata": {},
   "outputs": [],
   "source": []
  }
 ],
 "metadata": {
  "kernelspec": {
   "display_name": "Python 3",
   "language": "python",
   "name": "python3"
  },
  "language_info": {
   "codemirror_mode": {
    "name": "ipython",
    "version": 3
   },
   "file_extension": ".py",
   "mimetype": "text/x-python",
   "name": "python",
   "nbconvert_exporter": "python",
   "pygments_lexer": "ipython3",
   "version": "3.6.4"
  }
 },
 "nbformat": 4,
 "nbformat_minor": 2
}
